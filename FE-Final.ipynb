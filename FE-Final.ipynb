{
 "cells": [
  {
   "cell_type": "markdown",
   "metadata": {
    "collapsed": true
   },
   "source": [
    "# Дипломная работа по Feature Engineering"
   ]
  },
  {
   "cell_type": "code",
   "execution_count": 1,
   "metadata": {
    "collapsed": true
   },
   "outputs": [],
   "source": [
    "import pandas as pd\n",
    "import numpy as np\n",
    "from sklearn import preprocessing\n",
    "import matplotlib.pyplot as plt \n",
    "plt.rc(\"font\", size=14)\n",
    "from sklearn.linear_model import LogisticRegression\n",
    "from sklearn.model_selection import train_test_split\n",
    "import seaborn as sns\n",
    "sns.set(style=\"white\")\n",
    "sns.set(style=\"whitegrid\", color_codes=True)\n",
    "from sklearn.preprocessing import LabelEncoder\n",
    "from sklearn.ensemble import RandomForestRegressor"
   ]
  },
  {
   "cell_type": "markdown",
   "metadata": {},
   "source": [
    "Задание\n",
    "\n",
    "1. Загрузите датасет taxi.csv.\n",
    "2. Посмотрите на данные. Отобразите общую информацию по признакам (вспомните о describe и info). Напишите в markdown свои наблюдения.\n",
    "3. Выявите пропуски, а также возможные причины их возникновения. Решите, что следует сделать с ними. Напишите в markdown свои наблюдения.\n",
    "4. Оцените зависимости переменных между собой. Используйте корреляции. Будет хорошо, если воспользуетесь profile_report. Напишите в markdown свои наблюдения.\n",
    "5. Определите стратегию преобразования категориальных признаков (т.е. как их сделать адекватными для моделей).\n",
    "6. Найдите признаки, которые можно разделить на другие, или преобразовать в другой тип данных. Удалите лишние, при необходимости.\n",
    "7. Разделите выборку на обучаемую и тестовую.\n",
    "8. Обучите модель. Напишите в markdown свои наблюдения по полученным результатам. Хорошие результаты дают классификаторы RandomForest и XGBoost"
   ]
  },
  {
   "cell_type": "markdown",
   "metadata": {},
   "source": [
    "# 1. Загрузите датасет taxi.csv."
   ]
  },
  {
   "cell_type": "code",
   "execution_count": 2,
   "metadata": {},
   "outputs": [
    {
     "data": {
      "text/html": [
       "<div>\n",
       "<style scoped>\n",
       "    .dataframe tbody tr th:only-of-type {\n",
       "        vertical-align: middle;\n",
       "    }\n",
       "\n",
       "    .dataframe tbody tr th {\n",
       "        vertical-align: top;\n",
       "    }\n",
       "\n",
       "    .dataframe thead th {\n",
       "        text-align: right;\n",
       "    }\n",
       "</style>\n",
       "<table border=\"1\" class=\"dataframe\">\n",
       "  <thead>\n",
       "    <tr style=\"text-align: right;\">\n",
       "      <th></th>\n",
       "      <th>offer_gk</th>\n",
       "      <th>weekday_key</th>\n",
       "      <th>hour_key</th>\n",
       "      <th>driver_gk</th>\n",
       "      <th>order_gk</th>\n",
       "      <th>driver_latitude</th>\n",
       "      <th>driver_longitude</th>\n",
       "      <th>origin_order_latitude</th>\n",
       "      <th>origin_order_longitude</th>\n",
       "      <th>distance_km</th>\n",
       "      <th>duration_min</th>\n",
       "      <th>offer_class_group</th>\n",
       "      <th>ride_type_desc</th>\n",
       "      <th>driver_response</th>\n",
       "    </tr>\n",
       "  </thead>\n",
       "  <tbody>\n",
       "    <tr>\n",
       "      <td>0</td>\n",
       "      <td>1105373</td>\n",
       "      <td>5</td>\n",
       "      <td>20</td>\n",
       "      <td>6080</td>\n",
       "      <td>174182</td>\n",
       "      <td>55.818842</td>\n",
       "      <td>37.334562</td>\n",
       "      <td>55.814567</td>\n",
       "      <td>37.355010</td>\n",
       "      <td>-1.000</td>\n",
       "      <td>-1.000</td>\n",
       "      <td>Economy</td>\n",
       "      <td>private</td>\n",
       "      <td>0</td>\n",
       "    </tr>\n",
       "    <tr>\n",
       "      <td>1</td>\n",
       "      <td>759733</td>\n",
       "      <td>5</td>\n",
       "      <td>14</td>\n",
       "      <td>6080</td>\n",
       "      <td>358774</td>\n",
       "      <td>55.805342</td>\n",
       "      <td>37.515023</td>\n",
       "      <td>55.819329</td>\n",
       "      <td>37.466398</td>\n",
       "      <td>18.802</td>\n",
       "      <td>25.217</td>\n",
       "      <td>Standard</td>\n",
       "      <td>private</td>\n",
       "      <td>1</td>\n",
       "    </tr>\n",
       "    <tr>\n",
       "      <td>2</td>\n",
       "      <td>416977</td>\n",
       "      <td>6</td>\n",
       "      <td>14</td>\n",
       "      <td>6080</td>\n",
       "      <td>866260</td>\n",
       "      <td>55.813978</td>\n",
       "      <td>37.347688</td>\n",
       "      <td>55.814827</td>\n",
       "      <td>37.354074</td>\n",
       "      <td>6.747</td>\n",
       "      <td>9.800</td>\n",
       "      <td>Economy</td>\n",
       "      <td>private</td>\n",
       "      <td>0</td>\n",
       "    </tr>\n",
       "    <tr>\n",
       "      <td>3</td>\n",
       "      <td>889660</td>\n",
       "      <td>2</td>\n",
       "      <td>6</td>\n",
       "      <td>6080</td>\n",
       "      <td>163522</td>\n",
       "      <td>55.745922</td>\n",
       "      <td>37.421748</td>\n",
       "      <td>55.743469</td>\n",
       "      <td>37.431130</td>\n",
       "      <td>-1.000</td>\n",
       "      <td>-1.000</td>\n",
       "      <td>Economy</td>\n",
       "      <td>private</td>\n",
       "      <td>1</td>\n",
       "    </tr>\n",
       "    <tr>\n",
       "      <td>4</td>\n",
       "      <td>1120055</td>\n",
       "      <td>4</td>\n",
       "      <td>16</td>\n",
       "      <td>6080</td>\n",
       "      <td>506710</td>\n",
       "      <td>55.803578</td>\n",
       "      <td>37.521602</td>\n",
       "      <td>55.812559</td>\n",
       "      <td>37.527407</td>\n",
       "      <td>12.383</td>\n",
       "      <td>19.250</td>\n",
       "      <td>Economy</td>\n",
       "      <td>private</td>\n",
       "      <td>1</td>\n",
       "    </tr>\n",
       "  </tbody>\n",
       "</table>\n",
       "</div>"
      ],
      "text/plain": [
       "   offer_gk  weekday_key  hour_key  driver_gk  order_gk  driver_latitude  \\\n",
       "0   1105373            5        20       6080    174182        55.818842   \n",
       "1    759733            5        14       6080    358774        55.805342   \n",
       "2    416977            6        14       6080    866260        55.813978   \n",
       "3    889660            2         6       6080    163522        55.745922   \n",
       "4   1120055            4        16       6080    506710        55.803578   \n",
       "\n",
       "   driver_longitude  origin_order_latitude  origin_order_longitude  \\\n",
       "0         37.334562              55.814567               37.355010   \n",
       "1         37.515023              55.819329               37.466398   \n",
       "2         37.347688              55.814827               37.354074   \n",
       "3         37.421748              55.743469               37.431130   \n",
       "4         37.521602              55.812559               37.527407   \n",
       "\n",
       "   distance_km  duration_min offer_class_group ride_type_desc  driver_response  \n",
       "0       -1.000        -1.000           Economy        private                0  \n",
       "1       18.802        25.217          Standard        private                1  \n",
       "2        6.747         9.800           Economy        private                0  \n",
       "3       -1.000        -1.000           Economy        private                1  \n",
       "4       12.383        19.250           Economy        private                1  "
      ]
     },
     "execution_count": 2,
     "metadata": {},
     "output_type": "execute_result"
    }
   ],
   "source": [
    "data = pd.read_csv('taxi.csv')\n",
    "data.head(5)"
   ]
  },
  {
   "cell_type": "markdown",
   "metadata": {},
   "source": [
    "# 2. Посмотрите на данные. Отобразите общую информацию по признакам (вспомните о describe и info). Напишите в markdown свои наблюдения."
   ]
  },
  {
   "cell_type": "code",
   "execution_count": 3,
   "metadata": {},
   "outputs": [
    {
     "data": {
      "text/html": [
       "<div>\n",
       "<style scoped>\n",
       "    .dataframe tbody tr th:only-of-type {\n",
       "        vertical-align: middle;\n",
       "    }\n",
       "\n",
       "    .dataframe tbody tr th {\n",
       "        vertical-align: top;\n",
       "    }\n",
       "\n",
       "    .dataframe thead th {\n",
       "        text-align: right;\n",
       "    }\n",
       "</style>\n",
       "<table border=\"1\" class=\"dataframe\">\n",
       "  <thead>\n",
       "    <tr style=\"text-align: right;\">\n",
       "      <th></th>\n",
       "      <th>count</th>\n",
       "      <th>unique</th>\n",
       "      <th>top</th>\n",
       "      <th>freq</th>\n",
       "      <th>mean</th>\n",
       "      <th>std</th>\n",
       "      <th>min</th>\n",
       "      <th>25%</th>\n",
       "      <th>50%</th>\n",
       "      <th>75%</th>\n",
       "      <th>max</th>\n",
       "    </tr>\n",
       "  </thead>\n",
       "  <tbody>\n",
       "    <tr>\n",
       "      <td>offer_gk</td>\n",
       "      <td>100000</td>\n",
       "      <td>NaN</td>\n",
       "      <td>NaN</td>\n",
       "      <td>NaN</td>\n",
       "      <td>566219</td>\n",
       "      <td>325936</td>\n",
       "      <td>4</td>\n",
       "      <td>285555</td>\n",
       "      <td>565672</td>\n",
       "      <td>848720</td>\n",
       "      <td>1.13036e+06</td>\n",
       "    </tr>\n",
       "    <tr>\n",
       "      <td>weekday_key</td>\n",
       "      <td>100000</td>\n",
       "      <td>NaN</td>\n",
       "      <td>NaN</td>\n",
       "      <td>NaN</td>\n",
       "      <td>3.15986</td>\n",
       "      <td>2.05422</td>\n",
       "      <td>0</td>\n",
       "      <td>1</td>\n",
       "      <td>3</td>\n",
       "      <td>5</td>\n",
       "      <td>6</td>\n",
       "    </tr>\n",
       "    <tr>\n",
       "      <td>hour_key</td>\n",
       "      <td>100000</td>\n",
       "      <td>NaN</td>\n",
       "      <td>NaN</td>\n",
       "      <td>NaN</td>\n",
       "      <td>13.8278</td>\n",
       "      <td>7.3065</td>\n",
       "      <td>0</td>\n",
       "      <td>8</td>\n",
       "      <td>16</td>\n",
       "      <td>20</td>\n",
       "      <td>23</td>\n",
       "    </tr>\n",
       "    <tr>\n",
       "      <td>driver_gk</td>\n",
       "      <td>100000</td>\n",
       "      <td>NaN</td>\n",
       "      <td>NaN</td>\n",
       "      <td>NaN</td>\n",
       "      <td>3446.38</td>\n",
       "      <td>2038.74</td>\n",
       "      <td>14</td>\n",
       "      <td>1421</td>\n",
       "      <td>3506.5</td>\n",
       "      <td>5242</td>\n",
       "      <td>6806</td>\n",
       "    </tr>\n",
       "    <tr>\n",
       "      <td>order_gk</td>\n",
       "      <td>100000</td>\n",
       "      <td>NaN</td>\n",
       "      <td>NaN</td>\n",
       "      <td>NaN</td>\n",
       "      <td>460867</td>\n",
       "      <td>266065</td>\n",
       "      <td>18</td>\n",
       "      <td>229178</td>\n",
       "      <td>462420</td>\n",
       "      <td>690894</td>\n",
       "      <td>920344</td>\n",
       "    </tr>\n",
       "    <tr>\n",
       "      <td>driver_latitude</td>\n",
       "      <td>100000</td>\n",
       "      <td>NaN</td>\n",
       "      <td>NaN</td>\n",
       "      <td>NaN</td>\n",
       "      <td>55.7008</td>\n",
       "      <td>2.1359</td>\n",
       "      <td>-1</td>\n",
       "      <td>55.7087</td>\n",
       "      <td>55.7729</td>\n",
       "      <td>55.9607</td>\n",
       "      <td>56.1741</td>\n",
       "    </tr>\n",
       "    <tr>\n",
       "      <td>driver_longitude</td>\n",
       "      <td>100000</td>\n",
       "      <td>NaN</td>\n",
       "      <td>NaN</td>\n",
       "      <td>NaN</td>\n",
       "      <td>37.4923</td>\n",
       "      <td>1.45464</td>\n",
       "      <td>-1</td>\n",
       "      <td>37.4135</td>\n",
       "      <td>37.5337</td>\n",
       "      <td>37.6241</td>\n",
       "      <td>38.2805</td>\n",
       "    </tr>\n",
       "    <tr>\n",
       "      <td>origin_order_latitude</td>\n",
       "      <td>100000</td>\n",
       "      <td>NaN</td>\n",
       "      <td>NaN</td>\n",
       "      <td>NaN</td>\n",
       "      <td>55.7724</td>\n",
       "      <td>0.665985</td>\n",
       "      <td>-1</td>\n",
       "      <td>55.708</td>\n",
       "      <td>55.7726</td>\n",
       "      <td>55.962</td>\n",
       "      <td>56.3111</td>\n",
       "    </tr>\n",
       "    <tr>\n",
       "      <td>origin_order_longitude</td>\n",
       "      <td>100000</td>\n",
       "      <td>NaN</td>\n",
       "      <td>NaN</td>\n",
       "      <td>NaN</td>\n",
       "      <td>37.5416</td>\n",
       "      <td>0.467758</td>\n",
       "      <td>-1</td>\n",
       "      <td>37.4071</td>\n",
       "      <td>37.5325</td>\n",
       "      <td>37.6244</td>\n",
       "      <td>38.2436</td>\n",
       "    </tr>\n",
       "    <tr>\n",
       "      <td>distance_km</td>\n",
       "      <td>100000</td>\n",
       "      <td>NaN</td>\n",
       "      <td>NaN</td>\n",
       "      <td>NaN</td>\n",
       "      <td>18.3935</td>\n",
       "      <td>41.1293</td>\n",
       "      <td>-1</td>\n",
       "      <td>-1</td>\n",
       "      <td>10.4115</td>\n",
       "      <td>30.6653</td>\n",
       "      <td>5234.28</td>\n",
       "    </tr>\n",
       "    <tr>\n",
       "      <td>duration_min</td>\n",
       "      <td>100000</td>\n",
       "      <td>NaN</td>\n",
       "      <td>NaN</td>\n",
       "      <td>NaN</td>\n",
       "      <td>23.1348</td>\n",
       "      <td>33.8901</td>\n",
       "      <td>-1</td>\n",
       "      <td>-1</td>\n",
       "      <td>19.7</td>\n",
       "      <td>37.867</td>\n",
       "      <td>3958.28</td>\n",
       "    </tr>\n",
       "    <tr>\n",
       "      <td>offer_class_group</td>\n",
       "      <td>100000</td>\n",
       "      <td>9</td>\n",
       "      <td>Economy</td>\n",
       "      <td>48335</td>\n",
       "      <td>NaN</td>\n",
       "      <td>NaN</td>\n",
       "      <td>NaN</td>\n",
       "      <td>NaN</td>\n",
       "      <td>NaN</td>\n",
       "      <td>NaN</td>\n",
       "      <td>NaN</td>\n",
       "    </tr>\n",
       "    <tr>\n",
       "      <td>ride_type_desc</td>\n",
       "      <td>100000</td>\n",
       "      <td>4</td>\n",
       "      <td>private</td>\n",
       "      <td>91207</td>\n",
       "      <td>NaN</td>\n",
       "      <td>NaN</td>\n",
       "      <td>NaN</td>\n",
       "      <td>NaN</td>\n",
       "      <td>NaN</td>\n",
       "      <td>NaN</td>\n",
       "      <td>NaN</td>\n",
       "    </tr>\n",
       "    <tr>\n",
       "      <td>driver_response</td>\n",
       "      <td>100000</td>\n",
       "      <td>NaN</td>\n",
       "      <td>NaN</td>\n",
       "      <td>NaN</td>\n",
       "      <td>0.49248</td>\n",
       "      <td>0.499946</td>\n",
       "      <td>0</td>\n",
       "      <td>0</td>\n",
       "      <td>0</td>\n",
       "      <td>1</td>\n",
       "      <td>1</td>\n",
       "    </tr>\n",
       "  </tbody>\n",
       "</table>\n",
       "</div>"
      ],
      "text/plain": [
       "                         count unique      top   freq     mean       std  min  \\\n",
       "offer_gk                100000    NaN      NaN    NaN   566219    325936    4   \n",
       "weekday_key             100000    NaN      NaN    NaN  3.15986   2.05422    0   \n",
       "hour_key                100000    NaN      NaN    NaN  13.8278    7.3065    0   \n",
       "driver_gk               100000    NaN      NaN    NaN  3446.38   2038.74   14   \n",
       "order_gk                100000    NaN      NaN    NaN   460867    266065   18   \n",
       "driver_latitude         100000    NaN      NaN    NaN  55.7008    2.1359   -1   \n",
       "driver_longitude        100000    NaN      NaN    NaN  37.4923   1.45464   -1   \n",
       "origin_order_latitude   100000    NaN      NaN    NaN  55.7724  0.665985   -1   \n",
       "origin_order_longitude  100000    NaN      NaN    NaN  37.5416  0.467758   -1   \n",
       "distance_km             100000    NaN      NaN    NaN  18.3935   41.1293   -1   \n",
       "duration_min            100000    NaN      NaN    NaN  23.1348   33.8901   -1   \n",
       "offer_class_group       100000      9  Economy  48335      NaN       NaN  NaN   \n",
       "ride_type_desc          100000      4  private  91207      NaN       NaN  NaN   \n",
       "driver_response         100000    NaN      NaN    NaN  0.49248  0.499946    0   \n",
       "\n",
       "                            25%      50%      75%          max  \n",
       "offer_gk                 285555   565672   848720  1.13036e+06  \n",
       "weekday_key                   1        3        5            6  \n",
       "hour_key                      8       16       20           23  \n",
       "driver_gk                  1421   3506.5     5242         6806  \n",
       "order_gk                 229178   462420   690894       920344  \n",
       "driver_latitude         55.7087  55.7729  55.9607      56.1741  \n",
       "driver_longitude        37.4135  37.5337  37.6241      38.2805  \n",
       "origin_order_latitude    55.708  55.7726   55.962      56.3111  \n",
       "origin_order_longitude  37.4071  37.5325  37.6244      38.2436  \n",
       "distance_km                  -1  10.4115  30.6653      5234.28  \n",
       "duration_min                 -1     19.7   37.867      3958.28  \n",
       "offer_class_group           NaN      NaN      NaN          NaN  \n",
       "ride_type_desc              NaN      NaN      NaN          NaN  \n",
       "driver_response               0        0        1            1  "
      ]
     },
     "execution_count": 3,
     "metadata": {},
     "output_type": "execute_result"
    }
   ],
   "source": [
    "data.describe(include = 'all').transpose()"
   ]
  },
  {
   "cell_type": "code",
   "execution_count": 4,
   "metadata": {},
   "outputs": [
    {
     "name": "stdout",
     "output_type": "stream",
     "text": [
      "<class 'pandas.core.frame.DataFrame'>\n",
      "RangeIndex: 100000 entries, 0 to 99999\n",
      "Data columns (total 14 columns):\n",
      "offer_gk                  100000 non-null int64\n",
      "weekday_key               100000 non-null int64\n",
      "hour_key                  100000 non-null int64\n",
      "driver_gk                 100000 non-null int64\n",
      "order_gk                  100000 non-null int64\n",
      "driver_latitude           100000 non-null float64\n",
      "driver_longitude          100000 non-null float64\n",
      "origin_order_latitude     100000 non-null float64\n",
      "origin_order_longitude    100000 non-null float64\n",
      "distance_km               100000 non-null float64\n",
      "duration_min              100000 non-null float64\n",
      "offer_class_group         100000 non-null object\n",
      "ride_type_desc            100000 non-null object\n",
      "driver_response           100000 non-null int64\n",
      "dtypes: float64(6), int64(6), object(2)\n",
      "memory usage: 10.7+ MB\n"
     ]
    }
   ],
   "source": [
    "data.info()"
   ]
  },
  {
   "cell_type": "markdown",
   "metadata": {},
   "source": [
    "Наблюдения\n",
    "- Очевидно, что у переменных distance_km и duration_min имеются выбросы - нужно от них избавиться\n",
    "- Переменные представляют из себя микс из численных и категориальных переменных, категориальные переменные необходимо перекодировать\n",
    "- Количество наблюдений одинаково для всех переменных, и пропусков нет"
   ]
  },
  {
   "cell_type": "code",
   "execution_count": 5,
   "metadata": {},
   "outputs": [
    {
     "data": {
      "image/png": "[encoded data removed]",
      "text/plain": [
       "<Figure size 432x288 with 1 Axes>"
      ]
     },
     "metadata": {},
     "output_type": "display_data"
    }
   ],
   "source": [
    "distance = data['distance_km']\n",
    "duration = data['duration_min']\n",
    "fig, ax = plt.subplots()\n",
    "ax.scatter(distance, duration, c='red', alpha=0.3, edgecolors='none')\n",
    "\n",
    "ax.grid(True)\n",
    "plt.xlabel('distance')\n",
    "plt.ylabel('duration')\n",
    "plt.show()"
   ]
  },
  {
   "cell_type": "code",
   "execution_count": 6,
   "metadata": {},
   "outputs": [],
   "source": [
    "q_high = data[\"distance_km\"].quantile(0.99)\n",
    "q_low = data[\"distance_km\"].quantile(0.01)"
   ]
  },
  {
   "cell_type": "code",
   "execution_count": 7,
   "metadata": {},
   "outputs": [],
   "source": [
    "data = data[(data[\"distance_km\"] < q_high)&(data[\"distance_km\"] > q_low)]"
   ]
  },
  {
   "cell_type": "code",
   "execution_count": 8,
   "metadata": {},
   "outputs": [
    {
     "data": {
      "image/png": "[encoded data removed]",
      "text/plain": [
       "<Figure size 432x288 with 1 Axes>"
      ]
     },
     "metadata": {},
     "output_type": "display_data"
    }
   ],
   "source": [
    "distance = data['distance_km']\n",
    "duration = data['duration_min']\n",
    "fig, ax = plt.subplots()\n",
    "ax.scatter(distance, duration, c='red', alpha=0.3, edgecolors='none')\n",
    "\n",
    "ax.grid(True)\n",
    "plt.xlabel('distance')\n",
    "plt.ylabel('duration')\n",
    "plt.show()"
   ]
  },
  {
   "cell_type": "code",
   "execution_count": 9,
   "metadata": {},
   "outputs": [
    {
     "name": "stdout",
     "output_type": "stream",
     "text": [
      "<class 'pandas.core.frame.DataFrame'>\n",
      "Int64Index: 72793 entries, 1 to 99999\n",
      "Data columns (total 14 columns):\n",
      "offer_gk                  72793 non-null int64\n",
      "weekday_key               72793 non-null int64\n",
      "hour_key                  72793 non-null int64\n",
      "driver_gk                 72793 non-null int64\n",
      "order_gk                  72793 non-null int64\n",
      "driver_latitude           72793 non-null float64\n",
      "driver_longitude          72793 non-null float64\n",
      "origin_order_latitude     72793 non-null float64\n",
      "origin_order_longitude    72793 non-null float64\n",
      "distance_km               72793 non-null float64\n",
      "duration_min              72793 non-null float64\n",
      "offer_class_group         72793 non-null object\n",
      "ride_type_desc            72793 non-null object\n",
      "driver_response           72793 non-null int64\n",
      "dtypes: float64(6), int64(6), object(2)\n",
      "memory usage: 8.3+ MB\n"
     ]
    }
   ],
   "source": [
    "data.info()"
   ]
  },
  {
   "cell_type": "code",
   "execution_count": 10,
   "metadata": {},
   "outputs": [
    {
     "data": {
      "text/html": [
       "<div>\n",
       "<style scoped>\n",
       "    .dataframe tbody tr th:only-of-type {\n",
       "        vertical-align: middle;\n",
       "    }\n",
       "\n",
       "    .dataframe tbody tr th {\n",
       "        vertical-align: top;\n",
       "    }\n",
       "\n",
       "    .dataframe thead th {\n",
       "        text-align: right;\n",
       "    }\n",
       "</style>\n",
       "<table border=\"1\" class=\"dataframe\">\n",
       "  <thead>\n",
       "    <tr style=\"text-align: right;\">\n",
       "      <th></th>\n",
       "      <th>count</th>\n",
       "      <th>unique</th>\n",
       "      <th>top</th>\n",
       "      <th>freq</th>\n",
       "      <th>mean</th>\n",
       "      <th>std</th>\n",
       "      <th>min</th>\n",
       "      <th>25%</th>\n",
       "      <th>50%</th>\n",
       "      <th>75%</th>\n",
       "      <th>max</th>\n",
       "    </tr>\n",
       "  </thead>\n",
       "  <tbody>\n",
       "    <tr>\n",
       "      <td>offer_gk</td>\n",
       "      <td>72793</td>\n",
       "      <td>NaN</td>\n",
       "      <td>NaN</td>\n",
       "      <td>NaN</td>\n",
       "      <td>565645</td>\n",
       "      <td>326306</td>\n",
       "      <td>4</td>\n",
       "      <td>284765</td>\n",
       "      <td>564459</td>\n",
       "      <td>849525</td>\n",
       "      <td>1.13036e+06</td>\n",
       "    </tr>\n",
       "    <tr>\n",
       "      <td>weekday_key</td>\n",
       "      <td>72793</td>\n",
       "      <td>NaN</td>\n",
       "      <td>NaN</td>\n",
       "      <td>NaN</td>\n",
       "      <td>3.15278</td>\n",
       "      <td>2.07615</td>\n",
       "      <td>0</td>\n",
       "      <td>1</td>\n",
       "      <td>3</td>\n",
       "      <td>5</td>\n",
       "      <td>6</td>\n",
       "    </tr>\n",
       "    <tr>\n",
       "      <td>hour_key</td>\n",
       "      <td>72793</td>\n",
       "      <td>NaN</td>\n",
       "      <td>NaN</td>\n",
       "      <td>NaN</td>\n",
       "      <td>13.8204</td>\n",
       "      <td>7.29753</td>\n",
       "      <td>0</td>\n",
       "      <td>8</td>\n",
       "      <td>16</td>\n",
       "      <td>20</td>\n",
       "      <td>23</td>\n",
       "    </tr>\n",
       "    <tr>\n",
       "      <td>driver_gk</td>\n",
       "      <td>72793</td>\n",
       "      <td>NaN</td>\n",
       "      <td>NaN</td>\n",
       "      <td>NaN</td>\n",
       "      <td>3458.8</td>\n",
       "      <td>2037.39</td>\n",
       "      <td>14</td>\n",
       "      <td>1421</td>\n",
       "      <td>3507</td>\n",
       "      <td>5242</td>\n",
       "      <td>6806</td>\n",
       "    </tr>\n",
       "    <tr>\n",
       "      <td>order_gk</td>\n",
       "      <td>72793</td>\n",
       "      <td>NaN</td>\n",
       "      <td>NaN</td>\n",
       "      <td>NaN</td>\n",
       "      <td>462014</td>\n",
       "      <td>266093</td>\n",
       "      <td>27</td>\n",
       "      <td>230798</td>\n",
       "      <td>463337</td>\n",
       "      <td>692550</td>\n",
       "      <td>920344</td>\n",
       "    </tr>\n",
       "    <tr>\n",
       "      <td>driver_latitude</td>\n",
       "      <td>72793</td>\n",
       "      <td>NaN</td>\n",
       "      <td>NaN</td>\n",
       "      <td>NaN</td>\n",
       "      <td>55.7716</td>\n",
       "      <td>0.801529</td>\n",
       "      <td>-1</td>\n",
       "      <td>55.7078</td>\n",
       "      <td>55.775</td>\n",
       "      <td>55.9611</td>\n",
       "      <td>56.0185</td>\n",
       "    </tr>\n",
       "    <tr>\n",
       "      <td>driver_longitude</td>\n",
       "      <td>72793</td>\n",
       "      <td>NaN</td>\n",
       "      <td>NaN</td>\n",
       "      <td>NaN</td>\n",
       "      <td>37.5374</td>\n",
       "      <td>0.556503</td>\n",
       "      <td>-1</td>\n",
       "      <td>37.4135</td>\n",
       "      <td>37.5274</td>\n",
       "      <td>37.6239</td>\n",
       "      <td>38.2328</td>\n",
       "    </tr>\n",
       "    <tr>\n",
       "      <td>origin_order_latitude</td>\n",
       "      <td>72793</td>\n",
       "      <td>NaN</td>\n",
       "      <td>NaN</td>\n",
       "      <td>NaN</td>\n",
       "      <td>55.7733</td>\n",
       "      <td>0.715432</td>\n",
       "      <td>-1</td>\n",
       "      <td>55.7074</td>\n",
       "      <td>55.7753</td>\n",
       "      <td>55.9623</td>\n",
       "      <td>56.0251</td>\n",
       "    </tr>\n",
       "    <tr>\n",
       "      <td>origin_order_longitude</td>\n",
       "      <td>72793</td>\n",
       "      <td>NaN</td>\n",
       "      <td>NaN</td>\n",
       "      <td>NaN</td>\n",
       "      <td>37.5386</td>\n",
       "      <td>0.500402</td>\n",
       "      <td>-1</td>\n",
       "      <td>37.4071</td>\n",
       "      <td>37.5266</td>\n",
       "      <td>37.6238</td>\n",
       "      <td>38.2041</td>\n",
       "    </tr>\n",
       "    <tr>\n",
       "      <td>distance_km</td>\n",
       "      <td>72793</td>\n",
       "      <td>NaN</td>\n",
       "      <td>NaN</td>\n",
       "      <td>NaN</td>\n",
       "      <td>23.6268</td>\n",
       "      <td>18.4193</td>\n",
       "      <td>0</td>\n",
       "      <td>7.794</td>\n",
       "      <td>18.203</td>\n",
       "      <td>37.748</td>\n",
       "      <td>75.351</td>\n",
       "    </tr>\n",
       "    <tr>\n",
       "      <td>duration_min</td>\n",
       "      <td>72793</td>\n",
       "      <td>NaN</td>\n",
       "      <td>NaN</td>\n",
       "      <td>NaN</td>\n",
       "      <td>30.4528</td>\n",
       "      <td>16.9335</td>\n",
       "      <td>0</td>\n",
       "      <td>16.417</td>\n",
       "      <td>27.817</td>\n",
       "      <td>43.567</td>\n",
       "      <td>91.45</td>\n",
       "    </tr>\n",
       "    <tr>\n",
       "      <td>offer_class_group</td>\n",
       "      <td>72793</td>\n",
       "      <td>8</td>\n",
       "      <td>Economy</td>\n",
       "      <td>40270</td>\n",
       "      <td>NaN</td>\n",
       "      <td>NaN</td>\n",
       "      <td>NaN</td>\n",
       "      <td>NaN</td>\n",
       "      <td>NaN</td>\n",
       "      <td>NaN</td>\n",
       "      <td>NaN</td>\n",
       "    </tr>\n",
       "    <tr>\n",
       "      <td>ride_type_desc</td>\n",
       "      <td>72793</td>\n",
       "      <td>3</td>\n",
       "      <td>private</td>\n",
       "      <td>72617</td>\n",
       "      <td>NaN</td>\n",
       "      <td>NaN</td>\n",
       "      <td>NaN</td>\n",
       "      <td>NaN</td>\n",
       "      <td>NaN</td>\n",
       "      <td>NaN</td>\n",
       "      <td>NaN</td>\n",
       "    </tr>\n",
       "    <tr>\n",
       "      <td>driver_response</td>\n",
       "      <td>72793</td>\n",
       "      <td>NaN</td>\n",
       "      <td>NaN</td>\n",
       "      <td>NaN</td>\n",
       "      <td>0.474194</td>\n",
       "      <td>0.499337</td>\n",
       "      <td>0</td>\n",
       "      <td>0</td>\n",
       "      <td>0</td>\n",
       "      <td>1</td>\n",
       "      <td>1</td>\n",
       "    </tr>\n",
       "  </tbody>\n",
       "</table>\n",
       "</div>"
      ],
      "text/plain": [
       "                        count unique      top   freq      mean       std  min  \\\n",
       "offer_gk                72793    NaN      NaN    NaN    565645    326306    4   \n",
       "weekday_key             72793    NaN      NaN    NaN   3.15278   2.07615    0   \n",
       "hour_key                72793    NaN      NaN    NaN   13.8204   7.29753    0   \n",
       "driver_gk               72793    NaN      NaN    NaN    3458.8   2037.39   14   \n",
       "order_gk                72793    NaN      NaN    NaN    462014    266093   27   \n",
       "driver_latitude         72793    NaN      NaN    NaN   55.7716  0.801529   -1   \n",
       "driver_longitude        72793    NaN      NaN    NaN   37.5374  0.556503   -1   \n",
       "origin_order_latitude   72793    NaN      NaN    NaN   55.7733  0.715432   -1   \n",
       "origin_order_longitude  72793    NaN      NaN    NaN   37.5386  0.500402   -1   \n",
       "distance_km             72793    NaN      NaN    NaN   23.6268   18.4193    0   \n",
       "duration_min            72793    NaN      NaN    NaN   30.4528   16.9335    0   \n",
       "offer_class_group       72793      8  Economy  40270       NaN       NaN  NaN   \n",
       "ride_type_desc          72793      3  private  72617       NaN       NaN  NaN   \n",
       "driver_response         72793    NaN      NaN    NaN  0.474194  0.499337    0   \n",
       "\n",
       "                            25%      50%      75%          max  \n",
       "offer_gk                 284765   564459   849525  1.13036e+06  \n",
       "weekday_key                   1        3        5            6  \n",
       "hour_key                      8       16       20           23  \n",
       "driver_gk                  1421     3507     5242         6806  \n",
       "order_gk                 230798   463337   692550       920344  \n",
       "driver_latitude         55.7078   55.775  55.9611      56.0185  \n",
       "driver_longitude        37.4135  37.5274  37.6239      38.2328  \n",
       "origin_order_latitude   55.7074  55.7753  55.9623      56.0251  \n",
       "origin_order_longitude  37.4071  37.5266  37.6238      38.2041  \n",
       "distance_km               7.794   18.203   37.748       75.351  \n",
       "duration_min             16.417   27.817   43.567        91.45  \n",
       "offer_class_group           NaN      NaN      NaN          NaN  \n",
       "ride_type_desc              NaN      NaN      NaN          NaN  \n",
       "driver_response               0        0        1            1  "
      ]
     },
     "execution_count": 10,
     "metadata": {},
     "output_type": "execute_result"
    }
   ],
   "source": [
    "data.describe(include = 'all').transpose()"
   ]
  },
  {
   "cell_type": "markdown",
   "metadata": {},
   "source": [
    "# 3. Выявите пропуски, а также возможные причины их возникновения. Решите, что следует сделать с ними. Напишите в markdown свои наблюдения."
   ]
  },
  {
   "cell_type": "code",
   "execution_count": 11,
   "metadata": {},
   "outputs": [
    {
     "data": {
      "text/plain": [
       "offer_gk                  0\n",
       "weekday_key               0\n",
       "hour_key                  0\n",
       "driver_gk                 0\n",
       "order_gk                  0\n",
       "driver_latitude           0\n",
       "driver_longitude          0\n",
       "origin_order_latitude     0\n",
       "origin_order_longitude    0\n",
       "distance_km               0\n",
       "duration_min              0\n",
       "offer_class_group         0\n",
       "ride_type_desc            0\n",
       "driver_response           0\n",
       "dtype: int64"
      ]
     },
     "execution_count": 11,
     "metadata": {},
     "output_type": "execute_result"
    }
   ],
   "source": [
    "data.isnull().sum()\n",
    "# проверка наличия пропусков - пропусков нет"
   ]
  },
  {
   "cell_type": "code",
   "execution_count": 12,
   "metadata": {},
   "outputs": [
    {
     "data": {
      "text/plain": [
       "offer_gk                    int64\n",
       "weekday_key                 int64\n",
       "hour_key                    int64\n",
       "driver_gk                   int64\n",
       "order_gk                    int64\n",
       "driver_latitude           float64\n",
       "driver_longitude          float64\n",
       "origin_order_latitude     float64\n",
       "origin_order_longitude    float64\n",
       "distance_km               float64\n",
       "duration_min              float64\n",
       "offer_class_group          object\n",
       "ride_type_desc             object\n",
       "driver_response             int64\n",
       "dtype: object"
      ]
     },
     "execution_count": 12,
     "metadata": {},
     "output_type": "execute_result"
    }
   ],
   "source": [
    "data.dtypes"
   ]
  },
  {
   "cell_type": "code",
   "execution_count": 13,
   "metadata": {},
   "outputs": [
    {
     "data": {
      "text/plain": [
       "(72793, 14)"
      ]
     },
     "execution_count": 13,
     "metadata": {},
     "output_type": "execute_result"
    }
   ],
   "source": [
    "data.shape"
   ]
  },
  {
   "cell_type": "code",
   "execution_count": 14,
   "metadata": {},
   "outputs": [
    {
     "data": {
      "text/plain": [
       "(72793, 14)"
      ]
     },
     "execution_count": 14,
     "metadata": {},
     "output_type": "execute_result"
    }
   ],
   "source": [
    "data = data.drop_duplicates()\n",
    "data.shape"
   ]
  },
  {
   "cell_type": "code",
   "execution_count": 15,
   "metadata": {
    "collapsed": true
   },
   "outputs": [],
   "source": [
    "data = data.drop(['offer_gk', 'driver_gk', 'driver_latitude', 'order_gk', 'driver_longitude', 'origin_order_latitude', 'origin_order_longitude'], axis=1)\n",
    "# убираем столбцы, не несущие нагрузки"
   ]
  },
  {
   "cell_type": "markdown",
   "metadata": {},
   "source": [
    "# 4. Оцените зависимости переменных между собой. Используйте корреляции. Будет хорошо, если воспользуетесь profile_report. Напишите в markdown свои наблюдения."
   ]
  },
  {
   "cell_type": "code",
   "execution_count": 16,
   "metadata": {},
   "outputs": [
    {
     "data": {
      "text/html": [
       "<div>\n",
       "<style scoped>\n",
       "    .dataframe tbody tr th:only-of-type {\n",
       "        vertical-align: middle;\n",
       "    }\n",
       "\n",
       "    .dataframe tbody tr th {\n",
       "        vertical-align: top;\n",
       "    }\n",
       "\n",
       "    .dataframe thead th {\n",
       "        text-align: right;\n",
       "    }\n",
       "</style>\n",
       "<table border=\"1\" class=\"dataframe\">\n",
       "  <thead>\n",
       "    <tr style=\"text-align: right;\">\n",
       "      <th></th>\n",
       "      <th>weekday_key</th>\n",
       "      <th>hour_key</th>\n",
       "      <th>distance_km</th>\n",
       "      <th>duration_min</th>\n",
       "      <th>driver_response</th>\n",
       "    </tr>\n",
       "  </thead>\n",
       "  <tbody>\n",
       "    <tr>\n",
       "      <td>weekday_key</td>\n",
       "      <td>1.000000</td>\n",
       "      <td>0.056614</td>\n",
       "      <td>-0.085133</td>\n",
       "      <td>-0.076506</td>\n",
       "      <td>0.041695</td>\n",
       "    </tr>\n",
       "    <tr>\n",
       "      <td>hour_key</td>\n",
       "      <td>0.056614</td>\n",
       "      <td>1.000000</td>\n",
       "      <td>-0.056271</td>\n",
       "      <td>-0.062919</td>\n",
       "      <td>0.025991</td>\n",
       "    </tr>\n",
       "    <tr>\n",
       "      <td>distance_km</td>\n",
       "      <td>-0.085133</td>\n",
       "      <td>-0.056271</td>\n",
       "      <td>1.000000</td>\n",
       "      <td>0.954388</td>\n",
       "      <td>-0.380896</td>\n",
       "    </tr>\n",
       "    <tr>\n",
       "      <td>duration_min</td>\n",
       "      <td>-0.076506</td>\n",
       "      <td>-0.062919</td>\n",
       "      <td>0.954388</td>\n",
       "      <td>1.000000</td>\n",
       "      <td>-0.333342</td>\n",
       "    </tr>\n",
       "    <tr>\n",
       "      <td>driver_response</td>\n",
       "      <td>0.041695</td>\n",
       "      <td>0.025991</td>\n",
       "      <td>-0.380896</td>\n",
       "      <td>-0.333342</td>\n",
       "      <td>1.000000</td>\n",
       "    </tr>\n",
       "  </tbody>\n",
       "</table>\n",
       "</div>"
      ],
      "text/plain": [
       "                 weekday_key  hour_key  distance_km  duration_min  \\\n",
       "weekday_key         1.000000  0.056614    -0.085133     -0.076506   \n",
       "hour_key            0.056614  1.000000    -0.056271     -0.062919   \n",
       "distance_km        -0.085133 -0.056271     1.000000      0.954388   \n",
       "duration_min       -0.076506 -0.062919     0.954388      1.000000   \n",
       "driver_response     0.041695  0.025991    -0.380896     -0.333342   \n",
       "\n",
       "                 driver_response  \n",
       "weekday_key             0.041695  \n",
       "hour_key                0.025991  \n",
       "distance_km            -0.380896  \n",
       "duration_min           -0.333342  \n",
       "driver_response         1.000000  "
      ]
     },
     "execution_count": 16,
     "metadata": {},
     "output_type": "execute_result"
    }
   ],
   "source": [
    "data.corr()"
   ]
  },
  {
   "cell_type": "code",
   "execution_count": 17,
   "metadata": {},
   "outputs": [
    {
     "data": {
      "image/png": "[encoded data removed]",
      "text/plain": [
       "<Figure size 1440x1440 with 2 Axes>"
      ]
     },
     "metadata": {},
     "output_type": "display_data"
    }
   ],
   "source": [
    "plt.figure(figsize = (20,20))\n",
    "corr = data.corr()\n",
    "mask = np.zeros_like(corr, dtype=np.bool)\n",
    "mask[np.triu_indices_from(mask)] = True\n",
    "\n",
    "sns.heatmap(\n",
    "        data=corr,\n",
    "        mask=mask,\n",
    "        annot=True,\n",
    "        cmap='RdYlGn',\n",
    "        fmt=\"0.1%\",\n",
    "        linewidths=0.3,\n",
    "        square=True,\n",
    "        center=0\n",
    ")\n",
    "plt.tight_layout()\n",
    "plt.show()"
   ]
  },
  {
   "cell_type": "markdown",
   "metadata": {},
   "source": [
    "Из таблицы корреляций следует, что существует разница в реакции водителей (брать или не брать заказ) в зависимости от длины дистанции и продолжительности поездки. Если я правильно интерпретирую значения, то водители менее охотно берут более длинные / длительные поездки.\n",
    "Profile reporting не устанавливается"
   ]
  },
  {
   "cell_type": "markdown",
   "metadata": {},
   "source": [
    "# 5. Определите стратегию преобразования категориальных признаков (т.е. как их сделать адекватными для моделей)."
   ]
  },
  {
   "cell_type": "markdown",
   "metadata": {},
   "source": [
    "Посмотрим, какие значения есть у категориальных переменных"
   ]
  },
  {
   "cell_type": "code",
   "execution_count": 18,
   "metadata": {},
   "outputs": [
    {
     "data": {
      "text/plain": [
       "Economy     40270\n",
       "Standard    29518\n",
       "Premium      1001\n",
       "Delivery      888\n",
       "Kids          566\n",
       "XL            435\n",
       "VIP           104\n",
       "VIP+           11\n",
       "Name: offer_class_group, dtype: int64"
      ]
     },
     "execution_count": 18,
     "metadata": {},
     "output_type": "execute_result"
    }
   ],
   "source": [
    "data['offer_class_group'].value_counts()"
   ]
  },
  {
   "cell_type": "code",
   "execution_count": 19,
   "metadata": {},
   "outputs": [
    {
     "data": {
      "text/plain": [
       "private     72617\n",
       "business      157\n",
       "SMB            19\n",
       "Name: ride_type_desc, dtype: int64"
      ]
     },
     "execution_count": 19,
     "metadata": {},
     "output_type": "execute_result"
    }
   ],
   "source": [
    "data['ride_type_desc'].value_counts()"
   ]
  },
  {
   "cell_type": "markdown",
   "metadata": {},
   "source": [
    "# 6. Найдите признаки, которые можно разделить на другие, или преобразовать в другой тип данных. Удалите лишние, при необходимости."
   ]
  },
  {
   "cell_type": "code",
   "execution_count": 20,
   "metadata": {},
   "outputs": [
    {
     "data": {
      "text/html": [
       "<div>\n",
       "<style scoped>\n",
       "    .dataframe tbody tr th:only-of-type {\n",
       "        vertical-align: middle;\n",
       "    }\n",
       "\n",
       "    .dataframe tbody tr th {\n",
       "        vertical-align: top;\n",
       "    }\n",
       "\n",
       "    .dataframe thead th {\n",
       "        text-align: right;\n",
       "    }\n",
       "</style>\n",
       "<table border=\"1\" class=\"dataframe\">\n",
       "  <thead>\n",
       "    <tr style=\"text-align: right;\">\n",
       "      <th></th>\n",
       "      <th>weekday_key</th>\n",
       "      <th>hour_key</th>\n",
       "      <th>distance_km</th>\n",
       "      <th>duration_min</th>\n",
       "      <th>driver_response</th>\n",
       "      <th>offer_class_group_Delivery</th>\n",
       "      <th>offer_class_group_Economy</th>\n",
       "      <th>offer_class_group_Kids</th>\n",
       "      <th>offer_class_group_Premium</th>\n",
       "      <th>offer_class_group_Standard</th>\n",
       "      <th>offer_class_group_VIP</th>\n",
       "      <th>offer_class_group_VIP+</th>\n",
       "      <th>offer_class_group_XL</th>\n",
       "      <th>ride_type_desc_SMB</th>\n",
       "      <th>ride_type_desc_business</th>\n",
       "      <th>ride_type_desc_private</th>\n",
       "    </tr>\n",
       "  </thead>\n",
       "  <tbody>\n",
       "    <tr>\n",
       "      <td>1</td>\n",
       "      <td>5</td>\n",
       "      <td>14</td>\n",
       "      <td>18.802</td>\n",
       "      <td>25.217</td>\n",
       "      <td>1</td>\n",
       "      <td>0</td>\n",
       "      <td>0</td>\n",
       "      <td>0</td>\n",
       "      <td>0</td>\n",
       "      <td>1</td>\n",
       "      <td>0</td>\n",
       "      <td>0</td>\n",
       "      <td>0</td>\n",
       "      <td>0</td>\n",
       "      <td>0</td>\n",
       "      <td>1</td>\n",
       "    </tr>\n",
       "    <tr>\n",
       "      <td>2</td>\n",
       "      <td>6</td>\n",
       "      <td>14</td>\n",
       "      <td>6.747</td>\n",
       "      <td>9.800</td>\n",
       "      <td>0</td>\n",
       "      <td>0</td>\n",
       "      <td>1</td>\n",
       "      <td>0</td>\n",
       "      <td>0</td>\n",
       "      <td>0</td>\n",
       "      <td>0</td>\n",
       "      <td>0</td>\n",
       "      <td>0</td>\n",
       "      <td>0</td>\n",
       "      <td>0</td>\n",
       "      <td>1</td>\n",
       "    </tr>\n",
       "    <tr>\n",
       "      <td>4</td>\n",
       "      <td>4</td>\n",
       "      <td>16</td>\n",
       "      <td>12.383</td>\n",
       "      <td>19.250</td>\n",
       "      <td>1</td>\n",
       "      <td>0</td>\n",
       "      <td>1</td>\n",
       "      <td>0</td>\n",
       "      <td>0</td>\n",
       "      <td>0</td>\n",
       "      <td>0</td>\n",
       "      <td>0</td>\n",
       "      <td>0</td>\n",
       "      <td>0</td>\n",
       "      <td>0</td>\n",
       "      <td>1</td>\n",
       "    </tr>\n",
       "    <tr>\n",
       "      <td>5</td>\n",
       "      <td>6</td>\n",
       "      <td>15</td>\n",
       "      <td>6.747</td>\n",
       "      <td>9.800</td>\n",
       "      <td>0</td>\n",
       "      <td>0</td>\n",
       "      <td>1</td>\n",
       "      <td>0</td>\n",
       "      <td>0</td>\n",
       "      <td>0</td>\n",
       "      <td>0</td>\n",
       "      <td>0</td>\n",
       "      <td>0</td>\n",
       "      <td>0</td>\n",
       "      <td>0</td>\n",
       "      <td>1</td>\n",
       "    </tr>\n",
       "    <tr>\n",
       "      <td>7</td>\n",
       "      <td>5</td>\n",
       "      <td>20</td>\n",
       "      <td>1.517</td>\n",
       "      <td>3.933</td>\n",
       "      <td>0</td>\n",
       "      <td>0</td>\n",
       "      <td>1</td>\n",
       "      <td>0</td>\n",
       "      <td>0</td>\n",
       "      <td>0</td>\n",
       "      <td>0</td>\n",
       "      <td>0</td>\n",
       "      <td>0</td>\n",
       "      <td>0</td>\n",
       "      <td>0</td>\n",
       "      <td>1</td>\n",
       "    </tr>\n",
       "  </tbody>\n",
       "</table>\n",
       "</div>"
      ],
      "text/plain": [
       "   weekday_key  hour_key  distance_km  duration_min  driver_response  \\\n",
       "1            5        14       18.802        25.217                1   \n",
       "2            6        14        6.747         9.800                0   \n",
       "4            4        16       12.383        19.250                1   \n",
       "5            6        15        6.747         9.800                0   \n",
       "7            5        20        1.517         3.933                0   \n",
       "\n",
       "   offer_class_group_Delivery  offer_class_group_Economy  \\\n",
       "1                           0                          0   \n",
       "2                           0                          1   \n",
       "4                           0                          1   \n",
       "5                           0                          1   \n",
       "7                           0                          1   \n",
       "\n",
       "   offer_class_group_Kids  offer_class_group_Premium  \\\n",
       "1                       0                          0   \n",
       "2                       0                          0   \n",
       "4                       0                          0   \n",
       "5                       0                          0   \n",
       "7                       0                          0   \n",
       "\n",
       "   offer_class_group_Standard  offer_class_group_VIP  offer_class_group_VIP+  \\\n",
       "1                           1                      0                       0   \n",
       "2                           0                      0                       0   \n",
       "4                           0                      0                       0   \n",
       "5                           0                      0                       0   \n",
       "7                           0                      0                       0   \n",
       "\n",
       "   offer_class_group_XL  ride_type_desc_SMB  ride_type_desc_business  \\\n",
       "1                     0                   0                        0   \n",
       "2                     0                   0                        0   \n",
       "4                     0                   0                        0   \n",
       "5                     0                   0                        0   \n",
       "7                     0                   0                        0   \n",
       "\n",
       "   ride_type_desc_private  \n",
       "1                       1  \n",
       "2                       1  \n",
       "4                       1  \n",
       "5                       1  \n",
       "7                       1  "
      ]
     },
     "execution_count": 20,
     "metadata": {},
     "output_type": "execute_result"
    }
   ],
   "source": [
    "data = pd.get_dummies(data=data, columns=['offer_class_group', 'ride_type_desc'])\n",
    "data.head()"
   ]
  },
  {
   "cell_type": "markdown",
   "metadata": {},
   "source": [
    "# 7. Разделите выборку на обучаемую и тестовую."
   ]
  },
  {
   "cell_type": "code",
   "execution_count": 31,
   "metadata": {
    "collapsed": true
   },
   "outputs": [],
   "source": [
    "from sklearn.ensemble import RandomForestRegressor"
   ]
  },
  {
   "cell_type": "code",
   "execution_count": 32,
   "metadata": {},
   "outputs": [],
   "source": [
    "x_columns =[x for x in data.columns if x != 'driver_response']\n",
    "X = data[x_columns]\n",
    "y = data['driver_response']"
   ]
  },
  {
   "cell_type": "code",
   "execution_count": 23,
   "metadata": {
    "collapsed": true
   },
   "outputs": [],
   "source": [
    "X_train, X_test, y_train, y_test = train_test_split(X, y, test_size=0.3, random_state = 5)"
   ]
  },
  {
   "cell_type": "markdown",
   "metadata": {},
   "source": [
    "# 8. Обучите модель. Напишите в markdown свои наблюдения по полученным результатам. Хорошие результаты дают классификаторы RandomForest и XGBoost"
   ]
  },
  {
   "cell_type": "code",
   "execution_count": 24,
   "metadata": {},
   "outputs": [
    {
     "name": "stdout",
     "output_type": "stream",
     "text": [
      "MAE: 0.351\n"
     ]
    }
   ],
   "source": [
    "from sklearn.metrics import mean_absolute_error\n",
    "model=RandomForestRegressor(n_estimators=500)\n",
    "model.fit(X_train,y_train)\n",
    "y_pred_rfr = model.predict(X_test)\n",
    "print(\"MAE: {:.3f}\".format(mean_absolute_error(y_test, y_pred_rfr)))"
   ]
  },
  {
   "cell_type": "code",
   "execution_count": 25,
   "metadata": {},
   "outputs": [
    {
     "data": {
      "image/png": "[encoded data removed]",
      "text/plain": [
       "<Figure size 864x864 with 1 Axes>"
      ]
     },
     "metadata": {},
     "output_type": "display_data"
    },
    {
     "data": {
      "text/html": [
       "<div>\n",
       "<style scoped>\n",
       "    .dataframe tbody tr th:only-of-type {\n",
       "        vertical-align: middle;\n",
       "    }\n",
       "\n",
       "    .dataframe tbody tr th {\n",
       "        vertical-align: top;\n",
       "    }\n",
       "\n",
       "    .dataframe thead th {\n",
       "        text-align: right;\n",
       "    }\n",
       "</style>\n",
       "<table border=\"1\" class=\"dataframe\">\n",
       "  <thead>\n",
       "    <tr style=\"text-align: right;\">\n",
       "      <th></th>\n",
       "      <th>0</th>\n",
       "    </tr>\n",
       "  </thead>\n",
       "  <tbody>\n",
       "    <tr>\n",
       "      <td>distance_km</td>\n",
       "      <td>0.462933</td>\n",
       "    </tr>\n",
       "    <tr>\n",
       "      <td>duration_min</td>\n",
       "      <td>0.296430</td>\n",
       "    </tr>\n",
       "    <tr>\n",
       "      <td>hour_key</td>\n",
       "      <td>0.117846</td>\n",
       "    </tr>\n",
       "    <tr>\n",
       "      <td>weekday_key</td>\n",
       "      <td>0.078628</td>\n",
       "    </tr>\n",
       "    <tr>\n",
       "      <td>offer_class_group_Economy</td>\n",
       "      <td>0.023836</td>\n",
       "    </tr>\n",
       "    <tr>\n",
       "      <td>offer_class_group_Standard</td>\n",
       "      <td>0.007428</td>\n",
       "    </tr>\n",
       "    <tr>\n",
       "      <td>offer_class_group_XL</td>\n",
       "      <td>0.003482</td>\n",
       "    </tr>\n",
       "    <tr>\n",
       "      <td>offer_class_group_Premium</td>\n",
       "      <td>0.003196</td>\n",
       "    </tr>\n",
       "    <tr>\n",
       "      <td>offer_class_group_Delivery</td>\n",
       "      <td>0.002355</td>\n",
       "    </tr>\n",
       "    <tr>\n",
       "      <td>offer_class_group_Kids</td>\n",
       "      <td>0.002214</td>\n",
       "    </tr>\n",
       "    <tr>\n",
       "      <td>offer_class_group_VIP</td>\n",
       "      <td>0.000560</td>\n",
       "    </tr>\n",
       "    <tr>\n",
       "      <td>ride_type_desc_business</td>\n",
       "      <td>0.000537</td>\n",
       "    </tr>\n",
       "    <tr>\n",
       "      <td>ride_type_desc_private</td>\n",
       "      <td>0.000525</td>\n",
       "    </tr>\n",
       "    <tr>\n",
       "      <td>ride_type_desc_SMB</td>\n",
       "      <td>0.000017</td>\n",
       "    </tr>\n",
       "    <tr>\n",
       "      <td>offer_class_group_VIP+</td>\n",
       "      <td>0.000013</td>\n",
       "    </tr>\n",
       "  </tbody>\n",
       "</table>\n",
       "</div>"
      ],
      "text/plain": [
       "                                   0\n",
       "distance_km                 0.462933\n",
       "duration_min                0.296430\n",
       "hour_key                    0.117846\n",
       "weekday_key                 0.078628\n",
       "offer_class_group_Economy   0.023836\n",
       "offer_class_group_Standard  0.007428\n",
       "offer_class_group_XL        0.003482\n",
       "offer_class_group_Premium   0.003196\n",
       "offer_class_group_Delivery  0.002355\n",
       "offer_class_group_Kids      0.002214\n",
       "offer_class_group_VIP       0.000560\n",
       "ride_type_desc_business     0.000537\n",
       "ride_type_desc_private      0.000525\n",
       "ride_type_desc_SMB          0.000017\n",
       "offer_class_group_VIP+      0.000013"
      ]
     },
     "execution_count": 25,
     "metadata": {},
     "output_type": "execute_result"
    }
   ],
   "source": [
    "headers = list(X_train.columns.values)\n",
    "# Важность признаков\n",
    "feature_imp = pd.Series(model.feature_importances_,index=headers).sort_values(ascending=False)\n",
    "\n",
    "f, ax = plt.subplots(figsize=(12, 12))\n",
    "sns.barplot(x=feature_imp, y=feature_imp.index)\n",
    "x_ticks = np.linspace(start = 0, stop=max(feature_imp), num =  15, endpoint = True)\n",
    "plt.xticks(x_ticks, [f\"{x:0.2%}\" for x in x_ticks])\n",
    "plt.xlabel('Важность атрибутов')\n",
    "plt.ylabel('Атрибуты')\n",
    "plt.title(\"Наиболее важные атрибуты\")\n",
    "\n",
    "# Важность на графике\n",
    "plt.show()\n",
    "# И в DataFrame\n",
    "pd.DataFrame(feature_imp)"
   ]
  },
  {
   "cell_type": "markdown",
   "metadata": {},
   "source": [
    "Попробуем запустить модель только с 4 первыми атрибутами"
   ]
  },
  {
   "cell_type": "code",
   "execution_count": 26,
   "metadata": {
    "collapsed": true
   },
   "outputs": [],
   "source": [
    "X = data[['distance_km', 'duration_min', 'hour_key', 'weekday_key']]\n",
    "y = data['driver_response']"
   ]
  },
  {
   "cell_type": "code",
   "execution_count": 27,
   "metadata": {
    "collapsed": true
   },
   "outputs": [],
   "source": [
    "X_train, X_test, y_train, y_test = train_test_split(X, y, test_size=0.3, random_state = 5)"
   ]
  },
  {
   "cell_type": "code",
   "execution_count": 28,
   "metadata": {},
   "outputs": [
    {
     "name": "stdout",
     "output_type": "stream",
     "text": [
      "MAE: 0.358\n"
     ]
    }
   ],
   "source": [
    "model=RandomForestRegressor(n_estimators=500)\n",
    "model.fit(X_train,y_train)\n",
    "y_pred_rfr = model.predict(X_test)\n",
    "print(\"MAE: {:.3f}\".format(mean_absolute_error(y_test, y_pred_rfr)))"
   ]
  },
  {
   "cell_type": "code",
   "execution_count": 29,
   "metadata": {},
   "outputs": [
    {
     "data": {
      "image/png": "[encoded data removed]",
      "text/plain": [
       "<Figure size 864x864 with 1 Axes>"
      ]
     },
     "metadata": {},
     "output_type": "display_data"
    },
    {
     "data": {
      "text/html": [
       "<div>\n",
       "<style scoped>\n",
       "    .dataframe tbody tr th:only-of-type {\n",
       "        vertical-align: middle;\n",
       "    }\n",
       "\n",
       "    .dataframe tbody tr th {\n",
       "        vertical-align: top;\n",
       "    }\n",
       "\n",
       "    .dataframe thead th {\n",
       "        text-align: right;\n",
       "    }\n",
       "</style>\n",
       "<table border=\"1\" class=\"dataframe\">\n",
       "  <thead>\n",
       "    <tr style=\"text-align: right;\">\n",
       "      <th></th>\n",
       "      <th>0</th>\n",
       "    </tr>\n",
       "  </thead>\n",
       "  <tbody>\n",
       "    <tr>\n",
       "      <td>distance_km</td>\n",
       "      <td>0.486146</td>\n",
       "    </tr>\n",
       "    <tr>\n",
       "      <td>duration_min</td>\n",
       "      <td>0.312990</td>\n",
       "    </tr>\n",
       "    <tr>\n",
       "      <td>hour_key</td>\n",
       "      <td>0.119696</td>\n",
       "    </tr>\n",
       "    <tr>\n",
       "      <td>weekday_key</td>\n",
       "      <td>0.081168</td>\n",
       "    </tr>\n",
       "  </tbody>\n",
       "</table>\n",
       "</div>"
      ],
      "text/plain": [
       "                     0\n",
       "distance_km   0.486146\n",
       "duration_min  0.312990\n",
       "hour_key      0.119696\n",
       "weekday_key   0.081168"
      ]
     },
     "execution_count": 29,
     "metadata": {},
     "output_type": "execute_result"
    }
   ],
   "source": [
    "headers = list(X_train.columns.values)\n",
    "# Важность признаков\n",
    "feature_imp = pd.Series(model.feature_importances_,index=headers).sort_values(ascending=False)\n",
    "\n",
    "f, ax = plt.subplots(figsize=(12, 12))\n",
    "sns.barplot(x=feature_imp, y=feature_imp.index)\n",
    "x_ticks = np.linspace(start = 0, stop=max(feature_imp), num =  15, endpoint = True)\n",
    "plt.xticks(x_ticks, [f\"{x:0.2%}\" for x in x_ticks])\n",
    "plt.xlabel('Важность атрибутов')\n",
    "plt.ylabel('Атрибуты')\n",
    "plt.title(\"Наиболее важные атрибуты\")\n",
    "\n",
    "# Важность на графике\n",
    "plt.show()\n",
    "# И в DataFrame\n",
    "pd.DataFrame(feature_imp)"
   ]
  },
  {
   "cell_type": "markdown",
   "metadata": {},
   "source": [
    "Вывод. Основными аттрибутами остаются длина и продолжительность поездки. С сокращением переменных ошибка практически не изменилась."
   ]
  },
  {
   "cell_type": "code",
   "execution_count": null,
   "metadata": {
    "collapsed": true
   },
   "outputs": [],
   "source": []
  }
 ],
 "metadata": {
  "kernelspec": {
   "display_name": "Python (other-env)",
   "language": "python",
   "name": "other-env"
  },
  "language_info": {
   "codemirror_mode": {
    "name": "ipython",
    "version": 3
   },
   "file_extension": ".py",
   "mimetype": "text/x-python",
   "name": "python",
   "nbconvert_exporter": "python",
   "pygments_lexer": "ipython3",
   "version": "3.7.1"
  }
 },
 "nbformat": 4,
 "nbformat_minor": 2
}
